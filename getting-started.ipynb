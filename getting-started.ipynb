{
 "cells": [
  {
   "cell_type": "markdown",
   "metadata": {},
   "source": [
    "# Getting Started with PennyLane"
   ]
  },
  {
   "cell_type": "code",
   "execution_count": null,
   "metadata": {},
   "outputs": [],
   "source": [
    "%pip install pennylane --upgrade\n",
    "%pip install pennylane-qiskit --upgrade"
   ]
  },
  {
   "cell_type": "markdown",
   "metadata": {},
   "source": [
    "## Quantum Circuits"
   ]
  },
  {
   "cell_type": "code",
   "execution_count": 1,
   "metadata": {},
   "outputs": [],
   "source": [
    "import pennylane as qml\n",
    "import numpy as np\n",
    "import matplotlib.pyplot as plt"
   ]
  },
  {
   "cell_type": "code",
   "execution_count": 2,
   "metadata": {},
   "outputs": [],
   "source": [
    "def my_quantum_function(x, y):\n",
    "    qml.RZ(x, wires=0)\n",
    "    qml.CNOT(wires=[0,1])\n",
    "    qml.RY(y, wires=1)\n",
    "    return qml.expval(qml.PauliZ(1))"
   ]
  },
  {
   "cell_type": "code",
   "execution_count": 3,
   "metadata": {},
   "outputs": [],
   "source": [
    "shots_list = [5, 10, 1000]\n",
    "dev = qml.device(\"default.qubit\", wires=2, shots=shots_list)"
   ]
  },
  {
   "cell_type": "code",
   "execution_count": 4,
   "metadata": {},
   "outputs": [
    {
     "name": "stdout",
     "output_type": "stream",
     "text": [
      "0: ──RZ(1.57)─╭●───────────┤     \n",
      "1: ───────────╰X──RY(1.57)─┤  <Z>\n"
     ]
    }
   ],
   "source": [
    "circuit = qml.QNode(my_quantum_function, dev)\n",
    "circuit(np.pi/2, np.pi/2)\n",
    "print(qml.draw(circuit)(np.pi/2, np.pi/2))"
   ]
  },
  {
   "cell_type": "code",
   "execution_count": null,
   "metadata": {},
   "outputs": [],
   "source": [
    "qml.drawer.use_style(\"black_white\")\n",
    "fig, ax = qml.draw_mpl(circuit)(np.pi/2, np.pi/2)\n",
    "plt.show()"
   ]
  },
  {
   "cell_type": "code",
   "execution_count": null,
   "metadata": {},
   "outputs": [],
   "source": [
    "## QNode Decorator ##\n",
    "\n",
    "dev = qml.device('default.qubit', wires=2, shots=10)\n",
    "\n",
    "@qml.qnode(dev)\n",
    "def circuit(x):\n",
    "    qml.RZ(x, wires=0)\n",
    "    qml.CNOT(wires=[0,1])\n",
    "    qml.RY(x, wires=1)\n",
    "    return qml.expval(qml.PauliZ(1))\n",
    "\n",
    "result = circuit(np.pi/2)\n",
    "result"
   ]
  },
  {
   "cell_type": "markdown",
   "metadata": {},
   "source": [
    "## Loading and calling a parametrized Qiskit QuantumCircuit object while using the QNode decorator"
   ]
  },
  {
   "cell_type": "code",
   "execution_count": 26,
   "metadata": {},
   "outputs": [
    {
     "data": {
      "text/plain": [
       "np.float64(-0.6)"
      ]
     },
     "execution_count": 26,
     "metadata": {},
     "output_type": "execute_result"
    }
   ],
   "source": [
    "from qiskit import QuantumCircuit\n",
    "from qiskit.circuit import Parameter\n",
    "import numpy as np\n",
    "\n",
    "dev = qml.device('default.qubit', wires=2, shots=10)\n",
    "\n",
    "theta = Parameter('θ')\n",
    "\n",
    "qc = QuantumCircuit(2)\n",
    "qc.rz(theta, [0])\n",
    "qc.rx(theta, [0])\n",
    "qc.cx(0, 1)\n",
    "\n",
    "@qml.qnode(dev)\n",
    "def quantum_circuit_with_loaded_subcircuit(x):\n",
    "    qml.from_qiskit(qc)({theta: x})\n",
    "    return qml.expval(qml.PauliZ(0))\n",
    "\n",
    "angle = np.pi/2\n",
    "result = quantum_circuit_with_loaded_subcircuit(angle)\n",
    "result"
   ]
  },
  {
   "cell_type": "code",
   "execution_count": null,
   "metadata": {},
   "outputs": [],
   "source": [
    "from qiskit_ibm_runtime import QiskitRuntimeService\n",
    "\n",
    "QiskitRuntimeService.save_account(\n",
    "    channel=\"ibm_quantum\", token=\"afdb287966d333d556c9f84dab96673882fb3b31ae3de4133667f7450ce4905911d542708a216be1b4a8152cb901792907fc1fbca61ea31cc4144319b7c55983\",\n",
    "    set_as_default=True, overwrite=True, instance=\"usc/phys513/phys513p\"\n",
    "    )\n",
    "\n",
    "# To access saved credentials for the IBM quantum channel and select an instance\n",
    "service = QiskitRuntimeService()\n",
    "backend = service.least_busy(operational=True, simulator=False, min_num_qubits=10)"
   ]
  },
  {
   "cell_type": "code",
   "execution_count": 32,
   "metadata": {},
   "outputs": [],
   "source": [
    "dev = qml.device('qiskit.remote', wires=4, backend=backend)"
   ]
  },
  {
   "cell_type": "code",
   "execution_count": 34,
   "metadata": {},
   "outputs": [],
   "source": [
    "# Choose a backend from the available ones\n",
    "backend_name = 'ibm_brisbane'\n",
    "backend = service.backend(backend_name)  \n",
    "\n",
    "# Define the Quantum Device\n",
    "dev = qml.device(\n",
    "    'qiskit.remote',           \n",
    "    wires=4,\n",
    "    backend=backend,\n",
    "    shots=1024\n",
    ")"
   ]
  },
  {
   "cell_type": "code",
   "execution_count": 35,
   "metadata": {},
   "outputs": [
    {
     "name": "stdout",
     "output_type": "stream",
     "text": [
      "The output state is: \n",
      " [ 0.9842122+0.j          0.       +0.j          0.       +0.j\n",
      "  0.       -0.07788367j -0.0315756+0.j          0.       +0.j\n",
      "  0.       +0.j          0.       -0.15576734j]\n"
     ]
    }
   ],
   "source": [
    "dev = qml.device(\"default.qubit\")\n",
    "\n",
    "def do(k):\n",
    "\n",
    "    qml.StatePrep([1,k], wires = [0], normalize = True)\n",
    "\n",
    "def apply(theta):\n",
    "\n",
    "    qml.IsingXX(theta, wires = [1,2])\n",
    "\n",
    "@qml.qnode(dev)\n",
    "def do_apply_undo(k,theta):\n",
    "    \"\"\"\n",
    "    Applies V, controlled-U, and the inverse of V\n",
    "    Args: \n",
    "    - k, theta: The parameters for do and apply (V and U) respectively\n",
    "    Returns:\n",
    "    - (np.array): The output state of the routine\n",
    "    \"\"\"\n",
    "\n",
    "    do(k)\n",
    "    qml.ctrl(apply, control = 0)(theta)\n",
    "    qml.adjoint(do)(k)\n",
    "\n",
    "    return qml.state()\n",
    "\n",
    "k, theta = 0.5, 0.8\n",
    "\n",
    "print(\"The output state is: \\n\", do_apply_undo(k, theta))"
   ]
  },
  {
   "cell_type": "code",
   "execution_count": 36,
   "metadata": {},
   "outputs": [
    {
     "name": "stdout",
     "output_type": "stream",
     "text": [
      "0: ──|Ψ⟩─╭●──────────────|Ψ⟩†─┤  State\n",
      "1: ──────├IsingXX(0.80)───────┤  State\n",
      "2: ──────╰IsingXX(0.80)───────┤  State\n"
     ]
    }
   ],
   "source": [
    "circuit = qml.QNode(do_apply_undo, dev)\n",
    "print(qml.draw(circuit)(0.5, 0.8))"
   ]
  },
  {
   "cell_type": "code",
   "execution_count": null,
   "metadata": {},
   "outputs": [],
   "source": []
  }
 ],
 "metadata": {
  "kernelspec": {
   "display_name": ".venv",
   "language": "python",
   "name": "python3"
  },
  "language_info": {
   "codemirror_mode": {
    "name": "ipython",
    "version": 3
   },
   "file_extension": ".py",
   "mimetype": "text/x-python",
   "name": "python",
   "nbconvert_exporter": "python",
   "pygments_lexer": "ipython3",
   "version": "3.12.9"
  }
 },
 "nbformat": 4,
 "nbformat_minor": 2
}
