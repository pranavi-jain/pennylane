{
 "cells": [
  {
   "cell_type": "markdown",
   "metadata": {},
   "source": [
    "# Pennylane Fundamentals - Codebook Map"
   ]
  },
  {
   "cell_type": "code",
   "execution_count": 8,
   "metadata": {},
   "outputs": [],
   "source": [
    "import pennylane as qml"
   ]
  },
  {
   "cell_type": "code",
   "execution_count": 3,
   "metadata": {},
   "outputs": [],
   "source": [
    "def circuit(theta): # Write any arguments you need here\n",
    "    \"\"\"\n",
    "    This quantum function implements the circuit shown above\n",
    "    and returns the output quantum state\n",
    "    \"\"\"\n",
    "\n",
    "    ####################\n",
    "    qml.Hadamard(wires=0)\n",
    "    qml.PauliX(wires=1)\n",
    "    qml.CNOT(wires=[0,1])\n",
    "    qml.RY(theta, wires=1)\n",
    "    ####################\n",
    "\n",
    "    return qml.state()"
   ]
  },
  {
   "cell_type": "code",
   "execution_count": 4,
   "metadata": {},
   "outputs": [
    {
     "name": "stdout",
     "output_type": "stream",
     "text": [
      "[0.98877108+0.j         0.        +0.j         0.        +0.j\n",
      " 0.        -0.14943813j]\n"
     ]
    }
   ],
   "source": [
    "dev_qubit = qml.device('default.qubit', wires=['alice', 'bob'])\n",
    "dev_mixed = qml.device('default.mixed', wires=2)\n",
    "\n",
    "@qml.qnode(dev_qubit) # Choose the device you want\n",
    "def example_circuit(theta):\n",
    "    \n",
    "    qml.RX(theta, wires = 'alice' ) # Complete with wires in the device\n",
    "    qml.CNOT(wires = ['alice', 'bob']) # Complete with wires in the device\n",
    "    \n",
    "    return qml.state()\n",
    "\n",
    "print(example_circuit(0.3))"
   ]
  },
  {
   "cell_type": "code",
   "execution_count": 5,
   "metadata": {},
   "outputs": [
    {
     "name": "stdout",
     "output_type": "stream",
     "text": [
      "[-0.10566872+0.j  0.69916673+0.j  0.69916673+0.j  0.10566872+0.j]\n"
     ]
    }
   ],
   "source": [
    "dev = qml.device('default.qubit', wires=2)\n",
    "\n",
    "circuit_qnode = qml.QNode(circuit, dev)\n",
    "\n",
    "print(circuit_qnode(0.3))\n"
   ]
  },
  {
   "cell_type": "code",
   "execution_count": 6,
   "metadata": {},
   "outputs": [
    {
     "name": "stdout",
     "output_type": "stream",
     "text": [
      "0: ──RX(0.20)──H─╭●──RX(0.70)─┤  State\n",
      "1: ──Y───────────╰X──Y────────┤  State\n"
     ]
    }
   ],
   "source": [
    "def subcircuit_1(angle):\n",
    "\n",
    "    qml.RX(angle, wires=0)\n",
    "    qml.PauliY(wires=1)\n",
    "\n",
    "    # No need to return anything\n",
    "\n",
    "def subcircuit_2():\n",
    "\n",
    "    qml.Hadamard(wires=0)\n",
    "    qml.CNOT(wires=[0, 1])\n",
    "\n",
    "    # No need to return anything\n",
    "\n",
    "dev = qml.device('default.qubit', wires = 2)\n",
    "\n",
    "# Decorate this function to create a QNode\n",
    "@qml.qnode(dev)\n",
    "def full_circuit(theta, phi):\n",
    "\n",
    "    subcircuit_1(theta)\n",
    "    subcircuit_2()\n",
    "    subcircuit_1(phi)\n",
    "\n",
    "    return qml.state()\n",
    "\n",
    "print(qml.draw(full_circuit)(0.2, 0.7))"
   ]
  },
  {
   "cell_type": "code",
   "execution_count": 7,
   "metadata": {},
   "outputs": [
    {
     "name": "stdout",
     "output_type": "stream",
     "text": [
      "0: ──RX(0.20)──H─╭●──Y────────┤  State\n",
      "1: ──Y───────────╰X──RX(0.70)─┤  State\n"
     ]
    }
   ],
   "source": [
    "def subcircuit_1(angle, wire_list):\n",
    "    \"\"\"\n",
    "    Implements the first subcircuit as a function of the RX gate angle\n",
    "    and the list of wires wire_list on which the gates are applied\n",
    "    \"\"\"\n",
    "    qml.RX(angle, wires=wire_list[0])\n",
    "    qml.PauliY(wires=wire_list[1])\n",
    "\n",
    "def subcircuit_2(wire_list):\n",
    "    \"\"\"\n",
    "    Implements the second subcircuit as a function of the list of wires \n",
    "    wire_list on which the gates are applied\n",
    "    \"\"\"\n",
    "\n",
    "    qml.Hadamard(wires=wire_list[0])\n",
    "    qml.CNOT(wires=wire_list)\n",
    "\n",
    "dev = qml.device(\"default.qubit\", wires = [0,1])\n",
    "\n",
    "@qml.qnode(dev)\n",
    "def full_circuit(theta, phi):\n",
    "    \"\"\"\n",
    "    Builds the full quantum circuit given the input parameters\n",
    "    \"\"\"\n",
    "\n",
    "    subcircuit_1(theta, [0, 1])\n",
    "    subcircuit_2([0, 1])\n",
    "    subcircuit_1(phi, [1 ,0])\n",
    "\n",
    "    return qml.state()\n",
    "\n",
    "print(qml.draw(full_circuit)(0.2, 0.7))"
   ]
  },
  {
   "cell_type": "code",
   "execution_count": null,
   "metadata": {},
   "outputs": [],
   "source": []
  }
 ],
 "metadata": {
  "kernelspec": {
   "display_name": ".venv",
   "language": "python",
   "name": "python3"
  },
  "language_info": {
   "codemirror_mode": {
    "name": "ipython",
    "version": 3
   },
   "file_extension": ".py",
   "mimetype": "text/x-python",
   "name": "python",
   "nbconvert_exporter": "python",
   "pygments_lexer": "ipython3",
   "version": "3.12.9"
  }
 },
 "nbformat": 4,
 "nbformat_minor": 2
}
